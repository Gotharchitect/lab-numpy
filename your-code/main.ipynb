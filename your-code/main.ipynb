{
 "cells": [
  {
   "cell_type": "markdown",
   "metadata": {},
   "source": [
    "# Intrduction to NumPy\n",
    "\n",
    "\n",
    "#### 1. Import NumPy under the name np."
   ]
  },
  {
   "cell_type": "code",
   "execution_count": 1,
   "metadata": {},
   "outputs": [],
   "source": [
    "# your code here\n",
    "import numpy as np"
   ]
  },
  {
   "cell_type": "markdown",
   "metadata": {},
   "source": [
    "#### 2. Print your NumPy version."
   ]
  },
  {
   "cell_type": "code",
   "execution_count": 2,
   "metadata": {},
   "outputs": [
    {
     "name": "stdout",
     "output_type": "stream",
     "text": [
      "1.17.2\n"
     ]
    }
   ],
   "source": [
    "# your code here\n",
    "print(np.__version__)"
   ]
  },
  {
   "cell_type": "markdown",
   "metadata": {},
   "source": [
    "#### 3. Generate a 2x3x5 3-dimensional array with random values. Assign the array to variable *a*.\n",
    "**Challenge**: there are at least three easy ways that use numpy to generate random arrays. How many ways can you find?"
   ]
  },
  {
   "cell_type": "code",
   "execution_count": 3,
   "metadata": {},
   "outputs": [
    {
     "name": "stdout",
     "output_type": "stream",
     "text": [
      "[[[0.81281975 0.38581812 0.83059115 0.48622998 0.54924549]\n",
      "  [0.83436119 0.88921743 0.70859313 0.83279394 0.14887461]\n",
      "  [0.76641792 0.5308424  0.23558887 0.18326021 0.59756754]]\n",
      "\n",
      " [[0.3356423  0.12358505 0.99379015 0.8077936  0.0438131 ]\n",
      "  [0.22676103 0.07310206 0.18882973 0.61901393 0.93834492]\n",
      "  [0.83922903 0.07220658 0.99279906 0.93387442 0.63020045]]]\n"
     ]
    }
   ],
   "source": [
    "# Method 1\n",
    "a = np.random.random((2,3,5))\n",
    "print(a)"
   ]
  },
  {
   "cell_type": "code",
   "execution_count": 4,
   "metadata": {},
   "outputs": [
    {
     "name": "stdout",
     "output_type": "stream",
     "text": [
      "[[[  1.           4.4137931    7.82758621  11.24137931  14.65517241]\n",
      "  [ 18.06896552  21.48275862  24.89655172  28.31034483  31.72413793]\n",
      "  [ 35.13793103  38.55172414  41.96551724  45.37931034  48.79310345]]\n",
      "\n",
      " [[ 52.20689655  55.62068966  59.03448276  62.44827586  65.86206897]\n",
      "  [ 69.27586207  72.68965517  76.10344828  79.51724138  82.93103448]\n",
      "  [ 86.34482759  89.75862069  93.17241379  96.5862069  100.        ]]]\n"
     ]
    }
   ],
   "source": [
    "# Method 2\n",
    "a2 = np.linspace(1,100,30)\n",
    "a2.shape = (2,3,5)\n",
    "print(a2)"
   ]
  },
  {
   "cell_type": "code",
   "execution_count": 5,
   "metadata": {},
   "outputs": [],
   "source": [
    "# Method 3 \n",
    "#can't think of one :("
   ]
  },
  {
   "cell_type": "markdown",
   "metadata": {},
   "source": [
    "#### 4. Print *a*.\n"
   ]
  },
  {
   "cell_type": "code",
   "execution_count": 6,
   "metadata": {},
   "outputs": [
    {
     "name": "stdout",
     "output_type": "stream",
     "text": [
      "[[[0.81281975 0.38581812 0.83059115 0.48622998 0.54924549]\n",
      "  [0.83436119 0.88921743 0.70859313 0.83279394 0.14887461]\n",
      "  [0.76641792 0.5308424  0.23558887 0.18326021 0.59756754]]\n",
      "\n",
      " [[0.3356423  0.12358505 0.99379015 0.8077936  0.0438131 ]\n",
      "  [0.22676103 0.07310206 0.18882973 0.61901393 0.93834492]\n",
      "  [0.83922903 0.07220658 0.99279906 0.93387442 0.63020045]]]\n"
     ]
    }
   ],
   "source": [
    "# your code here\n",
    "print(a)"
   ]
  },
  {
   "cell_type": "markdown",
   "metadata": {},
   "source": [
    "#### 5. Create a 5x2x3 3-dimensional array with all values equaling 1. Assign the array to variable *b*."
   ]
  },
  {
   "cell_type": "code",
   "execution_count": 7,
   "metadata": {},
   "outputs": [],
   "source": [
    "# your code here\n",
    "b = np.full((5,2,3),1)"
   ]
  },
  {
   "cell_type": "markdown",
   "metadata": {},
   "source": [
    "#### 6. Print *b*.\n"
   ]
  },
  {
   "cell_type": "code",
   "execution_count": 8,
   "metadata": {},
   "outputs": [
    {
     "name": "stdout",
     "output_type": "stream",
     "text": [
      "[[[1 1 1]\n",
      "  [1 1 1]]\n",
      "\n",
      " [[1 1 1]\n",
      "  [1 1 1]]\n",
      "\n",
      " [[1 1 1]\n",
      "  [1 1 1]]\n",
      "\n",
      " [[1 1 1]\n",
      "  [1 1 1]]\n",
      "\n",
      " [[1 1 1]\n",
      "  [1 1 1]]]\n"
     ]
    }
   ],
   "source": [
    "# your code here\n",
    "print(b)"
   ]
  },
  {
   "cell_type": "markdown",
   "metadata": {},
   "source": [
    "#### 7. Do *a* and *b* have the same size? How do you prove that in Python code?"
   ]
  },
  {
   "cell_type": "code",
   "execution_count": 9,
   "metadata": {},
   "outputs": [
    {
     "data": {
      "text/plain": [
       "True"
      ]
     },
     "execution_count": 9,
     "metadata": {},
     "output_type": "execute_result"
    }
   ],
   "source": [
    "# your code here\n",
    "a.size == b.size"
   ]
  },
  {
   "cell_type": "markdown",
   "metadata": {},
   "source": [
    "#### 8. Are you able to add *a* and *b*? Why or why not?\n"
   ]
  },
  {
   "cell_type": "code",
   "execution_count": 10,
   "metadata": {},
   "outputs": [
    {
     "ename": "ValueError",
     "evalue": "operands could not be broadcast together with shapes (2,3,5) (5,2,3) ",
     "output_type": "error",
     "traceback": [
      "\u001b[0;31m---------------------------------------------------------------------------\u001b[0m",
      "\u001b[0;31mValueError\u001b[0m                                Traceback (most recent call last)",
      "\u001b[0;32m<ipython-input-10-8e2ae06a6d94>\u001b[0m in \u001b[0;36m<module>\u001b[0;34m\u001b[0m\n\u001b[1;32m      1\u001b[0m \u001b[0;31m# your answer here\u001b[0m\u001b[0;34m\u001b[0m\u001b[0;34m\u001b[0m\u001b[0;34m\u001b[0m\u001b[0m\n\u001b[0;32m----> 2\u001b[0;31m \u001b[0mnp\u001b[0m\u001b[0;34m.\u001b[0m\u001b[0madd\u001b[0m\u001b[0;34m(\u001b[0m\u001b[0ma\u001b[0m\u001b[0;34m,\u001b[0m\u001b[0mb\u001b[0m\u001b[0;34m)\u001b[0m\u001b[0;34m\u001b[0m\u001b[0;34m\u001b[0m\u001b[0m\n\u001b[0m\u001b[1;32m      3\u001b[0m \u001b[0;34m\u001b[0m\u001b[0m\n\u001b[1;32m      4\u001b[0m \u001b[0;31m#the arrays do not have the same shape\u001b[0m\u001b[0;34m\u001b[0m\u001b[0;34m\u001b[0m\u001b[0;34m\u001b[0m\u001b[0m\n",
      "\u001b[0;31mValueError\u001b[0m: operands could not be broadcast together with shapes (2,3,5) (5,2,3) "
     ]
    }
   ],
   "source": [
    "# your answer here\n",
    "np.add(a,b)\n",
    "\n",
    "#the arrays do not have the same shape"
   ]
  },
  {
   "cell_type": "code",
   "execution_count": 11,
   "metadata": {},
   "outputs": [
    {
     "data": {
      "text/plain": [
       "array([[[  1.81281975,   4.79961123,   8.65817735,  11.72760929,\n",
       "          15.20441791],\n",
       "        [ 18.9033267 ,  22.37197605,  25.60514486,  29.14313876,\n",
       "          31.87301254],\n",
       "        [ 35.90434895,  39.08256654,  42.20110611,  45.56257055,\n",
       "          49.39067099]],\n",
       "\n",
       "       [[ 52.54253886,  55.7442747 ,  60.02827291,  63.25606946,\n",
       "          65.90588207],\n",
       "        [ 69.5026231 ,  72.76275723,  76.292278  ,  80.13625531,\n",
       "          83.86937941],\n",
       "        [ 87.18405661,  89.83082727,  94.16521285,  97.52008131,\n",
       "         100.63020045]]])"
      ]
     },
     "execution_count": 11,
     "metadata": {},
     "output_type": "execute_result"
    }
   ],
   "source": [
    "np.add(a,a2) #trying np.add with same shape arrays"
   ]
  },
  {
   "cell_type": "markdown",
   "metadata": {},
   "source": [
    "#### 9. Transpose *b* so that it has the same structure of *a* (i.e. become a 2x3x5 array). Assign the transposed array to variable *c*."
   ]
  },
  {
   "cell_type": "code",
   "execution_count": 12,
   "metadata": {},
   "outputs": [
    {
     "name": "stdout",
     "output_type": "stream",
     "text": [
      "[[[1 1 1 1 1]\n",
      "  [1 1 1 1 1]\n",
      "  [1 1 1 1 1]]\n",
      "\n",
      " [[1 1 1 1 1]\n",
      "  [1 1 1 1 1]\n",
      "  [1 1 1 1 1]]]\n"
     ]
    }
   ],
   "source": [
    "# your code here\n",
    "c = np.reshape(b,(2,3,5))\n",
    "print(c)"
   ]
  },
  {
   "cell_type": "markdown",
   "metadata": {},
   "source": [
    "#### 10. Try to add *a* and *c*. Now it should work. Assign the sum to variable *d*. But why does it work now?"
   ]
  },
  {
   "cell_type": "code",
   "execution_count": 13,
   "metadata": {},
   "outputs": [
    {
     "data": {
      "text/plain": [
       "array([[[1.81281975, 1.38581812, 1.83059115, 1.48622998, 1.54924549],\n",
       "        [1.83436119, 1.88921743, 1.70859313, 1.83279394, 1.14887461],\n",
       "        [1.76641792, 1.5308424 , 1.23558887, 1.18326021, 1.59756754]],\n",
       "\n",
       "       [[1.3356423 , 1.12358505, 1.99379015, 1.8077936 , 1.0438131 ],\n",
       "        [1.22676103, 1.07310206, 1.18882973, 1.61901393, 1.93834492],\n",
       "        [1.83922903, 1.07220658, 1.99279906, 1.93387442, 1.63020045]]])"
      ]
     },
     "execution_count": 13,
     "metadata": {},
     "output_type": "execute_result"
    }
   ],
   "source": [
    "# your code/answer here\n",
    "d = np.add(a,c)\n",
    "d\n",
    "#it works because the arrays have the same shape so the values match up and can be iterated over"
   ]
  },
  {
   "cell_type": "markdown",
   "metadata": {},
   "source": [
    "#### 11. Print *a* and *d*. Notice the difference and relation of the two array in terms of the values? Explain."
   ]
  },
  {
   "cell_type": "code",
   "execution_count": 14,
   "metadata": {},
   "outputs": [
    {
     "name": "stdout",
     "output_type": "stream",
     "text": [
      "[[[0.81281975 0.38581812 0.83059115 0.48622998 0.54924549]\n",
      "  [0.83436119 0.88921743 0.70859313 0.83279394 0.14887461]\n",
      "  [0.76641792 0.5308424  0.23558887 0.18326021 0.59756754]]\n",
      "\n",
      " [[0.3356423  0.12358505 0.99379015 0.8077936  0.0438131 ]\n",
      "  [0.22676103 0.07310206 0.18882973 0.61901393 0.93834492]\n",
      "  [0.83922903 0.07220658 0.99279906 0.93387442 0.63020045]]]\n",
      "[[[1.81281975 1.38581812 1.83059115 1.48622998 1.54924549]\n",
      "  [1.83436119 1.88921743 1.70859313 1.83279394 1.14887461]\n",
      "  [1.76641792 1.5308424  1.23558887 1.18326021 1.59756754]]\n",
      "\n",
      " [[1.3356423  1.12358505 1.99379015 1.8077936  1.0438131 ]\n",
      "  [1.22676103 1.07310206 1.18882973 1.61901393 1.93834492]\n",
      "  [1.83922903 1.07220658 1.99279906 1.93387442 1.63020045]]]\n"
     ]
    }
   ],
   "source": [
    "# your code/answer here\n",
    "print(a)\n",
    "print(d)\n",
    "#d has the values of a + 1, the sum was applied to each value"
   ]
  },
  {
   "cell_type": "markdown",
   "metadata": {},
   "source": [
    "#### 12. Multiply *a* and *c*. Assign the result to *e*."
   ]
  },
  {
   "cell_type": "code",
   "execution_count": 15,
   "metadata": {},
   "outputs": [
    {
     "data": {
      "text/plain": [
       "array([[[0.81281975, 0.38581812, 0.83059115, 0.48622998, 0.54924549],\n",
       "        [0.83436119, 0.88921743, 0.70859313, 0.83279394, 0.14887461],\n",
       "        [0.76641792, 0.5308424 , 0.23558887, 0.18326021, 0.59756754]],\n",
       "\n",
       "       [[0.3356423 , 0.12358505, 0.99379015, 0.8077936 , 0.0438131 ],\n",
       "        [0.22676103, 0.07310206, 0.18882973, 0.61901393, 0.93834492],\n",
       "        [0.83922903, 0.07220658, 0.99279906, 0.93387442, 0.63020045]]])"
      ]
     },
     "execution_count": 15,
     "metadata": {},
     "output_type": "execute_result"
    }
   ],
   "source": [
    "# your code here\n",
    "e = np.multiply(a,c)\n",
    "e"
   ]
  },
  {
   "cell_type": "markdown",
   "metadata": {},
   "source": [
    "#### 13. Does *e* equal to *a*? Why or why not?\n"
   ]
  },
  {
   "cell_type": "code",
   "execution_count": 16,
   "metadata": {},
   "outputs": [
    {
     "data": {
      "text/plain": [
       "array([[[ True,  True,  True,  True,  True],\n",
       "        [ True,  True,  True,  True,  True],\n",
       "        [ True,  True,  True,  True,  True]],\n",
       "\n",
       "       [[ True,  True,  True,  True,  True],\n",
       "        [ True,  True,  True,  True,  True],\n",
       "        [ True,  True,  True,  True,  True]]])"
      ]
     },
     "execution_count": 16,
     "metadata": {},
     "output_type": "execute_result"
    }
   ],
   "source": [
    "# your code/answer here\n",
    "e == a\n",
    "#yes, because the value type and shape are the same"
   ]
  },
  {
   "cell_type": "markdown",
   "metadata": {},
   "source": [
    "#### 14. Identify the max, min, and mean values in *d*. Assign those values to variables *d_max*, *d_min* and *d_mean*."
   ]
  },
  {
   "cell_type": "code",
   "execution_count": 17,
   "metadata": {},
   "outputs": [
    {
     "data": {
      "text/plain": [
       "1.993790148258015"
      ]
     },
     "execution_count": 17,
     "metadata": {},
     "output_type": "execute_result"
    }
   ],
   "source": [
    "# your code here\n",
    "d_max = d.max()\n",
    "d_max"
   ]
  },
  {
   "cell_type": "code",
   "execution_count": 18,
   "metadata": {},
   "outputs": [
    {
     "data": {
      "text/plain": [
       "1.0438131049295856"
      ]
     },
     "execution_count": 18,
     "metadata": {},
     "output_type": "execute_result"
    }
   ],
   "source": [
    "d_min = d.min()\n",
    "d_min"
   ]
  },
  {
   "cell_type": "code",
   "execution_count": 19,
   "metadata": {},
   "outputs": [
    {
     "data": {
      "text/plain": [
       "1.55370690474388"
      ]
     },
     "execution_count": 19,
     "metadata": {},
     "output_type": "execute_result"
    }
   ],
   "source": [
    "d_mean = d.mean()\n",
    "d_mean"
   ]
  },
  {
   "cell_type": "markdown",
   "metadata": {},
   "source": [
    "#### 15. Now we want to label the values in *d*. First create an empty array *f* with the same shape (i.e. 2x3x5) as *d* using `np.empty`.\n"
   ]
  },
  {
   "cell_type": "code",
   "execution_count": 20,
   "metadata": {},
   "outputs": [
    {
     "data": {
      "text/plain": [
       "array([[[0.81281975, 0.38581812, 0.83059115, 0.48622998, 0.54924549],\n",
       "        [0.83436119, 0.88921743, 0.70859313, 0.83279394, 0.14887461],\n",
       "        [0.76641792, 0.5308424 , 0.23558887, 0.18326021, 0.59756754]],\n",
       "\n",
       "       [[0.3356423 , 0.12358505, 0.99379015, 0.8077936 , 0.0438131 ],\n",
       "        [0.22676103, 0.07310206, 0.18882973, 0.61901393, 0.93834492],\n",
       "        [0.83922903, 0.07220658, 0.99279906, 0.93387442, 0.63020045]]])"
      ]
     },
     "execution_count": 20,
     "metadata": {},
     "output_type": "execute_result"
    }
   ],
   "source": [
    "# your code here\n",
    "f = np.empty((2,3,5))\n",
    "f"
   ]
  },
  {
   "cell_type": "markdown",
   "metadata": {},
   "source": [
    "#### 16. Populate the values in *f*. \n",
    "\n",
    "For each value in *d*, if it's larger than *d_min* but smaller than *d_mean*, assign 25 to the corresponding value in *f*. If a value in *d* is larger than *d_mean* but smaller than *d_max*, assign 75 to the corresponding value in *f*. If a value equals to *d_mean*, assign 50 to the corresponding value in *f*. Assign 0 to the corresponding value(s) in *f* for *d_min* in *d*. Assign 100 to the corresponding value(s) in *f* for *d_max* in *d*. In the end, f should have only the following values: 0, 25, 50, 75, and 100.\n",
    "\n",
    "**Note**: you don't have to use Numpy in this question."
   ]
  },
  {
   "cell_type": "code",
   "execution_count": 42,
   "metadata": {},
   "outputs": [
    {
     "name": "stdout",
     "output_type": "stream",
     "text": [
      "[75, 25, 75, 25, 25, 75, 75, 75, 75, 25, 75, 25, 25, 25, 75, 25, 25, 100, 75, 0, 25, 25, 25, 75, 75, 75, 25, 75, 75, 75]\n",
      "[[[ 75  25  75  25  25]\n",
      "  [ 75  75  75  75  25]\n",
      "  [ 75  25  25  25  75]]\n",
      "\n",
      " [[ 25  25 100  75   0]\n",
      "  [ 25  25  25  75  75]\n",
      "  [ 75  25  75  75  75]]]\n"
     ]
    }
   ],
   "source": [
    "# your code here\n",
    "f = []\n",
    "for item in d:\n",
    "    for subitem in item:\n",
    "        for subsubitem in subitem:\n",
    "            if subsubitem > d_min and subsubitem < d_mean :\n",
    "                f.append(25)\n",
    "            elif subsubitem > d_mean and subsubitem < d_max:\n",
    "                f.append(75)\n",
    "            elif subsubitem == d_mean:\n",
    "                f.append(50)\n",
    "            elif subsubitem == d_min:\n",
    "                f.append(0)\n",
    "            else:\n",
    "                subsubitem == d_max\n",
    "                f.append(100)\n",
    "print(f)\n",
    "\n",
    "f = np.reshape(f, (2,3,5))\n",
    "print(f)"
   ]
  },
  {
   "cell_type": "markdown",
   "metadata": {},
   "source": [
    "#### 17. Print *d* and *f*. Do you have your expected *f*?\n",
    "For instance, if your *d* is:\n",
    "```python\n",
    "[[[1.85836099, 1.67064465, 1.62576044, 1.40243961, 1.88454931],\n",
    "[1.75354326, 1.69403643, 1.36729252, 1.61415071, 1.12104981],\n",
    "[1.72201435, 1.1862918 , 1.87078449, 1.7726778 , 1.88180042]],\n",
    "[[1.44747908, 1.31673383, 1.02000951, 1.52218947, 1.97066381],\n",
    "[1.79129243, 1.74983003, 1.96028037, 1.85166831, 1.65450881],\n",
    "[1.18068344, 1.9587381 , 1.00656599, 1.93402165, 1.73514584]]]\n",
    "```\n",
    "Your *f* should be:\n",
    "```python\n",
    "[[[ 75.,  75.,  75.,  25.,  75.],\n",
    "[ 75.,  75.,  25.,  25.,  25.],\n",
    "[ 75.,  25.,  75.,  75.,  75.]],\n",
    "[[ 25.,  25.,  25.,  25., 100.],\n",
    "[ 75.,  75.,  75.,  75.,  75.],\n",
    "[ 25.,  75.,   0.,  75.,  75.]]]\n",
    "```"
   ]
  },
  {
   "cell_type": "code",
   "execution_count": 43,
   "metadata": {},
   "outputs": [
    {
     "name": "stdout",
     "output_type": "stream",
     "text": [
      "[[[1.81281975 1.38581812 1.83059115 1.48622998 1.54924549]\n",
      "  [1.83436119 1.88921743 1.70859313 1.83279394 1.14887461]\n",
      "  [1.76641792 1.5308424  1.23558887 1.18326021 1.59756754]]\n",
      "\n",
      " [[1.3356423  1.12358505 1.99379015 1.8077936  1.0438131 ]\n",
      "  [1.22676103 1.07310206 1.18882973 1.61901393 1.93834492]\n",
      "  [1.83922903 1.07220658 1.99279906 1.93387442 1.63020045]]]\n",
      "[[[ 75  25  75  25  25]\n",
      "  [ 75  75  75  75  25]\n",
      "  [ 75  25  25  25  75]]\n",
      "\n",
      " [[ 25  25 100  75   0]\n",
      "  [ 25  25  25  75  75]\n",
      "  [ 75  25  75  75  75]]]\n"
     ]
    }
   ],
   "source": [
    "# your code here\n",
    "print(d)\n",
    "print(f)"
   ]
  },
  {
   "cell_type": "markdown",
   "metadata": {},
   "source": [
    "#### 18. Bonus question: instead of using numbers (i.e. 0, 25, 50, 75, and 100), use string values  (\"A\", \"B\", \"C\", \"D\", and \"E\") to label the array elements. For the example above, the expected result is:\n",
    "\n",
    "```python\n",
    "[[[ 'D',  'D',  'D',  'B',  'D'],\n",
    "[ 'D',  'D',  'B',  'B',  'B'],\n",
    "[ 'D',  'B',  'D',  'D',  'D']],\n",
    "[[ 'B',  'B',  'B',  'B',  'E'],\n",
    "[ 'D',  'D',  'D',  'D',  'D'],\n",
    "[ 'B',  'D',   'A',  'D', 'D']]]\n",
    "```\n",
    "**Note**: you don't have to use Numpy in this question."
   ]
  },
  {
   "cell_type": "code",
   "execution_count": 73,
   "metadata": {},
   "outputs": [
    {
     "name": "stdout",
     "output_type": "stream",
     "text": [
      "[[['75' '25' '75' '25' '25']\n",
      "  ['75' '75' '75' '75' '25']\n",
      "  ['75' '25' '25' '25' '75']]\n",
      "\n",
      " [['25' '25' '100' '75' 'A']\n",
      "  ['25' '25' '25' '75' '75']\n",
      "  ['75' '25' '75' '75' '75']]]\n",
      "[[['D' 'B' 'D' 'B' 'B']\n",
      "  ['D' 'D' 'D' 'D' 'B']\n",
      "  ['D' 'B' 'B' 'B' 'D']]\n",
      "\n",
      " [['B' 'B' 'E' 'D' 'A']\n",
      "  ['B' 'B' 'B' 'D' 'D']\n",
      "  ['D' 'B' 'D' 'D' 'D']]]\n"
     ]
    }
   ],
   "source": [
    "# your code here5\n",
    "a1 = np.where(f==0, 'A', f)\n",
    "print(a1)\n",
    "a2 = np.where(f==25, 'B', a1)\n",
    "a3 = np.where(f==50, 'C', a2)\n",
    "a4 = np.where(f==75, 'D', a3)\n",
    "a5 = np.where(f==100, 'E', a4)\n",
    "print(a5)"
   ]
  }
 ],
 "metadata": {
  "kernelspec": {
   "display_name": "Python 3",
   "language": "python",
   "name": "python3"
  },
  "language_info": {
   "codemirror_mode": {
    "name": "ipython",
    "version": 3
   },
   "file_extension": ".py",
   "mimetype": "text/x-python",
   "name": "python",
   "nbconvert_exporter": "python",
   "pygments_lexer": "ipython3",
   "version": "3.7.4"
  }
 },
 "nbformat": 4,
 "nbformat_minor": 2
}
